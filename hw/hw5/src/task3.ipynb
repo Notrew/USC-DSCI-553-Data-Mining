{
 "cells": [
  {
   "cell_type": "code",
   "execution_count": 2,
   "metadata": {},
   "outputs": [],
   "source": [
    "import sys\n",
    "from blackbox import BlackBox\n",
    "import random\n",
    "import csv\n",
    "import time"
   ]
  },
  {
   "cell_type": "code",
   "execution_count": 3,
   "metadata": {},
   "outputs": [],
   "source": [
    "#  Fixed Size Sampling\n",
    "# task3.py <input_file_path> <stream_size> <num_of_asks> <output_file_path>\n",
    "# input_path = sys.argv[1]\n",
    "# stream_size = int(sys.argv[2])\n",
    "# num_of_asks = int(sys.argv[3])\n",
    "# output_path = sys.argv[4]\n",
    "input_path = \"../data/input/users.txt\"\n",
    "stream_size = 100\n",
    "num_of_asks = 30\n",
    "output_path = \"../data/output/task3.csv\""
   ]
  },
  {
   "cell_type": "code",
   "execution_count": 47,
   "metadata": {},
   "outputs": [],
   "source": [
    "s_time = time.time()\n",
    "bx = BlackBox()\n",
    "random.seed(553)\n",
    "tmp = []\n",
    "res = []\n",
    "cnt = 0\n",
    "\n",
    "# reservoir_sampling\n",
    "for i in range(num_of_asks):\n",
    "    user_stream = bx.ask(input_path,stream_size)\n",
    "    if i == 0:\n",
    "        tmp = tmp+user_stream\n",
    "        cnt += stream_size\n",
    "    else:\n",
    "        for user in user_stream:\n",
    "            cnt += 1\n",
    "            prob = random.random()\n",
    "            if prob<100/cnt:\n",
    "                index = random.randint(0,99)\n",
    "                tmp[index] = user\n",
    "    res.append((cnt,tmp[0],tmp[20],tmp[40],tmp[60],tmp[80]))"
   ]
  },
  {
   "cell_type": "code",
   "execution_count": 6,
   "metadata": {},
   "outputs": [
    {
     "name": "stdout",
     "output_type": "stream",
     "text": [
      "Duration: 4.268599033355713\n"
     ]
    }
   ],
   "source": [
    "# less than 100 second\n",
    "e_time = time.time()\n",
    "duration = e_time-s_time\n",
    "print(\"Duration:\",duration)"
   ]
  },
  {
   "cell_type": "code",
   "execution_count": 16,
   "metadata": {},
   "outputs": [],
   "source": [
    "# write to csv format:\n",
    "with open(output_path,\"w\") as f:\n",
    "    writer = csv.writer(f)\n",
    "    writer.writerow([\"seqnum\",\"0_id\",\"20_id\",\"40_id\",\"60_id\",\"80_id\"])\n",
    "    for i in res:\n",
    "        writer.writerow(i)\n"
   ]
  },
  {
   "cell_type": "code",
   "execution_count": 15,
   "metadata": {},
   "outputs": [],
   "source": [
    "with open(\"../data/output/task3.txt\",\"w\") as f:\n",
    "    for i in res:\n",
    "        f.write(str(i)+\"\\n\")"
   ]
  },
  {
   "cell_type": "code",
   "execution_count": 8,
   "metadata": {},
   "outputs": [],
   "source": [
    "#export PYSPARK_PYTHON=python3.6                                                                                  \n",
    "#export JAVA_HOME=/usr/lib/jvm/java-1.8.0-openjdk-amd64  \n",
    "\n",
    "# /opt/spark/spark-3.1.2-bin-hadoop3.2/bin/spark-submit \n",
    "# --executor-memory 4G --driver-memory 4G \n",
    "# task1.py 2 \"../resource/asnlib/publicdata/users.txt\" \"./task1.csv\""
   ]
  }
 ],
 "metadata": {
  "kernelspec": {
   "display_name": "Python 3 (ipykernel)",
   "language": "python",
   "name": "python3"
  },
  "language_info": {
   "codemirror_mode": {
    "name": "ipython",
    "version": 3
   },
   "file_extension": ".py",
   "mimetype": "text/x-python",
   "name": "python",
   "nbconvert_exporter": "python",
   "pygments_lexer": "ipython3",
   "version": "3.8.8"
  },
  "vscode": {
   "interpreter": {
    "hash": "db928fd0c57d8c7a39883c08009f12c1243d97ab72bdd745024349e3e8cdaefe"
   }
  }
 },
 "nbformat": 4,
 "nbformat_minor": 2
}

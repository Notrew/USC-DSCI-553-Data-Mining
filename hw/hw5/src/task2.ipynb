{
 "cells": [
  {
   "cell_type": "code",
   "execution_count": 1,
   "metadata": {},
   "outputs": [],
   "source": [
    "import sys\n",
    "from blackbox import BlackBox\n",
    "import random\n",
    "import binascii\n",
    "import csv\n",
    "import time"
   ]
  },
  {
   "cell_type": "code",
   "execution_count": 2,
   "metadata": {},
   "outputs": [],
   "source": [
    "#  Flajolet-Martin algorithm\n",
    "# task2.py <input_file_path> <stream_size> <num_of_asks> <output_file_path>\n",
    "# input_path = sys.argv[1]\n",
    "# stream_size = int(sys.argv[2])\n",
    "# num_of_asks = int(sys.argv[3])\n",
    "# output_path = sys.argv[4]\n",
    "input_path = \"../data/input/users.txt\"\n",
    "stream_size = 300\n",
    "num_of_asks = 30\n",
    "output_path = \"../data/output/task2.csv\""
   ]
  },
  {
   "cell_type": "code",
   "execution_count": 3,
   "metadata": {},
   "outputs": [],
   "source": [
    "def generate_hash_funcs(n_hash):\n",
    "    res = []\n",
    "    a = random.sample(range(1,round(time.time()/10000)),n_hash)\n",
    "    b = random.sample(range(1,round(time.time()/10000)),n_hash)\n",
    "    p = 9965\n",
    "    for i in range(n_hash):\n",
    "        def hashFunc(uid_int):\n",
    "            hash_value  = ((a[i]*uid_int+b[i])%p)%69997\n",
    "            return hash_value\n",
    "        res.append(hashFunc)\n",
    "    return res\n",
    "\n",
    "def myhashs(uid_str,hash_funcs):\n",
    "    uid_int = int(binascii.hexlify(uid_str.encode('utf8')), 16)\n",
    "    res = []\n",
    "    for func in hash_funcs:\n",
    "        res.append(func(uid_int))\n",
    "    return res\n",
    "\n",
    "def cal_estimation(user_stream):\n",
    "    tmp = [0]*n_hash\n",
    "    for i in range(len(user_stream)):\n",
    "        uid_hash = myhashs(user_stream[i],hash_funcs)\n",
    "        for j in range(len(uid_hash)):\n",
    "            binary_num = bin(uid_hash[j])\n",
    "            n_zero = len(binary_num.split(\"1\")[-1])\n",
    "            if n_zero >=tmp[j]:\n",
    "                tmp[j] = n_zero\n",
    "    estimation = round(sum([2**i for i in tmp])/n_hash)\n",
    "    return estimation"
   ]
  },
  {
   "cell_type": "code",
   "execution_count": 4,
   "metadata": {},
   "outputs": [],
   "source": [
    "s_time = time.time()\n",
    "global_users = set()\n",
    "bx = BlackBox()\n",
    "res = []\n",
    "n_hash = 10\n",
    "for i in range(num_of_asks):\n",
    "    user_stream = bx.ask(input_path,stream_size)\n",
    "    hash_funcs = generate_hash_funcs(n_hash)\n",
    "    estimation = cal_estimation(user_stream)\n",
    "    res.append((i,stream_size,estimation))"
   ]
  },
  {
   "cell_type": "code",
   "execution_count": 5,
   "metadata": {},
   "outputs": [],
   "source": [
    "# final result, 0.2 <= (sum of all your estimations / sum of all ground truths) <= 5\n",
    "# estimation_sum = sum([i[2] for i in res])\n",
    "# estimation_sum/(300*30)"
   ]
  },
  {
   "cell_type": "code",
   "execution_count": 6,
   "metadata": {},
   "outputs": [
    {
     "name": "stdout",
     "output_type": "stream",
     "text": [
      "Duration: 4.268599033355713\n"
     ]
    }
   ],
   "source": [
    "# less than 100 second\n",
    "e_time = time.time()\n",
    "duration = e_time-s_time\n",
    "print(\"Duration:\",duration)"
   ]
  },
  {
   "cell_type": "code",
   "execution_count": 7,
   "metadata": {},
   "outputs": [],
   "source": [
    "# write to csv, format:\n",
    "with open(output_path,\"w\") as f:\n",
    "    writer = csv.writer(f)\n",
    "    writer.writerow([\"Time\",\"Ground Truth\",\"Estimation\"])\n",
    "    for i in res:\n",
    "        writer.writerow(i)\n"
   ]
  },
  {
   "cell_type": "code",
   "execution_count": 8,
   "metadata": {},
   "outputs": [],
   "source": [
    "#export PYSPARK_PYTHON=python3.6                                                                                  \n",
    "#export JAVA_HOME=/usr/lib/jvm/java-1.8.0-openjdk-amd64  \n",
    "\n",
    "# /opt/spark/spark-3.1.2-bin-hadoop3.2/bin/spark-submit \n",
    "# --executor-memory 4G --driver-memory 4G \n",
    "# task1.py 2 \"../resource/asnlib/publicdata/users.txt\" \"./task1.csv\""
   ]
  }
 ],
 "metadata": {
  "kernelspec": {
   "display_name": "Python 3 (ipykernel)",
   "language": "python",
   "name": "python3"
  },
  "language_info": {
   "codemirror_mode": {
    "name": "ipython",
    "version": 3
   },
   "file_extension": ".py",
   "mimetype": "text/x-python",
   "name": "python",
   "nbconvert_exporter": "python",
   "pygments_lexer": "ipython3",
   "version": "3.8.8"
  },
  "vscode": {
   "interpreter": {
    "hash": "db928fd0c57d8c7a39883c08009f12c1243d97ab72bdd745024349e3e8cdaefe"
   }
  }
 },
 "nbformat": 4,
 "nbformat_minor": 2
}

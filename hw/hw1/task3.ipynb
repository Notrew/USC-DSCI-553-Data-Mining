{
 "cells": [
  {
   "cell_type": "code",
   "execution_count": 1,
   "id": "3fb176c9",
   "metadata": {},
   "outputs": [],
   "source": [
    "import sys\n",
    "from pyspark import SparkContext\n",
    "import json\n",
    "import time"
   ]
  },
  {
   "cell_type": "code",
   "execution_count": 2,
   "id": "95891c3a",
   "metadata": {},
   "outputs": [
    {
     "name": "stderr",
     "output_type": "stream",
     "text": [
      "23/02/07 12:57:15 WARN Utils: Your hostname, NotredeMacBook-Air.local resolves to a loopback address: 127.0.0.1; using 10.26.139.211 instead (on interface en0)\n",
      "23/02/07 12:57:15 WARN Utils: Set SPARK_LOCAL_IP if you need to bind to another address\n",
      "WARNING: An illegal reflective access operation has occurred\n",
      "WARNING: Illegal reflective access by org.apache.spark.unsafe.Platform (file:/Users/notre/opt/anaconda3/lib/python3.8/site-packages/pyspark/jars/spark-unsafe_2.12-3.1.2.jar) to constructor java.nio.DirectByteBuffer(long,int)\n",
      "WARNING: Please consider reporting this to the maintainers of org.apache.spark.unsafe.Platform\n",
      "WARNING: Use --illegal-access=warn to enable warnings of further illegal reflective access operations\n",
      "WARNING: All illegal access operations will be denied in a future release\n",
      "23/02/07 12:57:16 WARN NativeCodeLoader: Unable to load native-hadoop library for your platform... using builtin-java classes where applicable\n",
      "Using Spark's default log4j profile: org/apache/spark/log4j-defaults.properties\n",
      "Setting default log level to \"WARN\".\n",
      "To adjust logging level use sc.setLogLevel(newLevel). For SparkR, use setLogLevel(newLevel).\n"
     ]
    }
   ],
   "source": [
    "# input format: task3.py <review_filepath> <business_filepath> <output_filepath_question_a> <output_filepath_question_b>\n",
    "# review_path = sys.argv[1]\n",
    "# business_path = sys.argv[2]\n",
    "# output_path_a = sys.argv[3]\n",
    "# output_path_b = sys.argv[4]\n",
    "review_path = \"./data/test_review.json\"\n",
    "business_path = \"./data/business.json\"\n",
    "output_path_a = \"./data/task3_a.txt\"\n",
    "output_path_b = \"./data/task3_b.json\"\n",
    "sc = SparkContext(\"local[*]\",appName=\"task3\").getOrCreate()\n",
    "review = sc.textFile(review_path).map(lambda x: json.loads(x))\n",
    "business = sc.textFile(business_path).map(lambda x: json.loads(x))\n",
    "output = {}"
   ]
  },
  {
   "cell_type": "code",
   "execution_count": 6,
   "id": "2fe7f2c6",
   "metadata": {},
   "outputs": [],
   "source": [
    "# Question:A\n",
    "# select business_id and stars form review\n",
    "# select business_id and city form business\n",
    "star = review.map(lambda x: (x[\"business_id\"],x[\"stars\"]))\n",
    "city = business.map(lambda x: (x[\"business_id\"],x[\"city\"]))"
   ]
  },
  {
   "cell_type": "code",
   "execution_count": 12,
   "id": "434b9f9e",
   "metadata": {},
   "outputs": [],
   "source": [
    "# join city and stars with same business_id\n",
    "joined = city.leftOuterJoin(star)"
   ]
  },
  {
   "cell_type": "code",
   "execution_count": 37,
   "id": "d29d22d5",
   "metadata": {},
   "outputs": [],
   "source": [
    "# calculate average stars of each city\n",
    "# (('1SWheh84yJXfytovILXOAQ', ('Phoenix', None))\n",
    "avg_star = joined.map(lambda x: (x[1][0],x[1][1])).filter(lambda x: x[1] is not None).groupByKey()\\\n",
    "                .map(lambda x: (x[0],sum(x[1]),len(x[1]))).map(lambda x: (x[0],float(x[1]/x[2])))\\\n",
    "                .sortBy(lambda x:[-x[1],x[0]]).collect()"
   ]
  },
  {
   "cell_type": "code",
   "execution_count": 44,
   "id": "62d8bdf4",
   "metadata": {},
   "outputs": [
    {
     "name": "stdout",
     "output_type": "stream",
     "text": [
      "[('Calgary', 5.0), ('Chandler', 5.0), ('Gilbert', 5.0), ('McKees Rocks', 5.0), ('Orange Village', 4.0), ('Las Vegas', 3.7), ('Markham', 3.0), ('Mesa', 3.0), ('Phoenix', 3.0), ('Pittsburgh', 3.0), ('Toronto', 3.0), ('Cleveland', 2.0), ('Scottsdale', 1.0)]\n"
     ]
    }
   ],
   "source": [
    "# save text file\n",
    "print(avg_star)\n",
    "with open(output_path_a,\"w\",encoding=\"utf-8\") as f:\n",
    "    f.write(\"city,stars\\n\")\n",
    "    for i in avg_star:\n",
    "        f.write(str(i[0])+\",\"+str(i[1])+\"\\n\")"
   ]
  },
  {
   "cell_type": "code",
   "execution_count": 75,
   "id": "8bfacf63",
   "metadata": {},
   "outputs": [],
   "source": [
    "# Question:B\n",
    "#  loading time + time to create joined table\n",
    "s_time = time.time()\n",
    "review = sc.textFile(review_path).map(lambda x: json.loads(x))\n",
    "business = sc.textFile(business_path).map(lambda x: json.loads(x))\n",
    "star = review.map(lambda x: (x[\"business_id\"],x[\"stars\"]))\n",
    "city = business.map(lambda x: (x[\"business_id\"],x[\"city\"]))\n",
    "joined = city.leftOuterJoin(star)\n",
    "e_time = time.time()\n",
    "l_time = e_time-s_time"
   ]
  },
  {
   "cell_type": "code",
   "execution_count": 91,
   "id": "7fa5724f",
   "metadata": {},
   "outputs": [
    {
     "name": "stdout",
     "output_type": "stream",
     "text": [
      "Calgary\n",
      "Chandler\n",
      "Gilbert\n",
      "McKees Rocks\n",
      "Orange Village\n",
      "Las Vegas\n",
      "Markham\n",
      "Mesa\n",
      "Phoenix\n",
      "Pittsburgh\n"
     ]
    }
   ],
   "source": [
    "# M1, using python sorting\n",
    "s_time_1 = time.time()\n",
    "avg_star_1 = joined.map(lambda x: (x[1][0],x[1][1])).filter(lambda x: x[1] is not None).groupByKey()\\\n",
    "                .map(lambda x: (x[0],sum(x[1]),len(x[1]))).map(lambda x: (x[0],float(x[1]/x[2]))).collect()\n",
    "avg_star_1 = sorted(avg_star_1,key=lambda x: [-x[1],x[0]])\n",
    "cnt = 0\n",
    "for i in range(len(avg_star_1)):\n",
    "    if cnt < 10:\n",
    "        print(avg_star_1[i][0])\n",
    "        cnt += 1\n",
    "    else:\n",
    "        break\n",
    "e_time_1 = time.time()\n",
    "m1 = l_time+e_time_1-s_time_1"
   ]
  },
  {
   "cell_type": "code",
   "execution_count": 95,
   "id": "fac3c6fc",
   "metadata": {},
   "outputs": [
    {
     "name": "stdout",
     "output_type": "stream",
     "text": [
      "Calgary\n",
      "Chandler\n",
      "Gilbert\n",
      "McKees Rocks\n",
      "Orange Village\n",
      "Las Vegas\n",
      "Markham\n",
      "Mesa\n",
      "Phoenix\n",
      "Pittsburgh\n"
     ]
    }
   ],
   "source": [
    "# M2, using spark sorting\n",
    "s_time_2 = time.time()\n",
    "avg_star_2 = joined.map(lambda x: (x[1][0],x[1][1])).filter(lambda x: x[1] is not None).groupByKey()\\\n",
    "                .map(lambda x: (x[0],sum(x[1]),len(x[1]))).map(lambda x: (x[0],float(x[1]/x[2])))\\\n",
    "                .sortBy(lambda x:[-x[1],x[0]]).take(10)\n",
    "cnt = 0\n",
    "for i in range(len(avg_star_2)):\n",
    "    if cnt < 10:\n",
    "        print(avg_star_2[i][0])\n",
    "        cnt += 1\n",
    "    else:\n",
    "        break\n",
    "e_time_2 = time.time()\n",
    "m2 = l_time+e_time_2-s_time_2"
   ]
  },
  {
   "cell_type": "markdown",
   "id": "54034263",
   "metadata": {},
   "source": [
    "\"In this problem, spark can finish the work in several partitions but python can only use computer sole memory, so spark will be faster.\"\n"
   ]
  },
  {
   "cell_type": "code",
   "execution_count": 100,
   "id": "82d00c02",
   "metadata": {},
   "outputs": [
    {
     "name": "stdout",
     "output_type": "stream",
     "text": [
      "{'m1': 0.6199555397033691, 'm2': 0.7215485572814941, 'reason': 'Because when sort in spark is done within partitions, so it can work on several partitions at one time, but python can only work on one memory, so spark is faster'}\n"
     ]
    }
   ],
   "source": [
    "output[\"m1\"] = m1\n",
    "output[\"m2\"] = m2\n",
    "output[\"reason\"] = \"Because when sort in spark is done within partitions, so it can work on several partitions at one \\\n",
    "time, but python can only work on one memory, so spark is faster\"\n",
    "print(output)\n",
    "with open(output_path_b,\"w\") as f:\n",
    "    json.dump(output,f) "
   ]
  },
  {
   "cell_type": "code",
   "execution_count": null,
   "id": "4cfd6383",
   "metadata": {},
   "outputs": [],
   "source": [
    "#export PYSPARK_PYTHON=python3.6                                                                                  \n",
    "#export JAVA_HOME=/usr/lib/jvm/java-1.8.0-openjdk-amd64  \n",
    "#/opt/spark/spark-3.1.2-bin-hadoop3.2/bin/spark-submit --executor-memory 4G --driver-memory 4G task3.py\n",
    "# \"../resource/asnlib/publicdata/test_review.json\" \"../resource/asnlib/publicdata/business.json\"\n",
    "# \"./task3_a.txt\" \"./task3_a.json\""
   ]
  }
 ],
 "metadata": {
  "kernelspec": {
   "display_name": "Python 3 (ipykernel)",
   "language": "python",
   "name": "python3"
  },
  "language_info": {
   "codemirror_mode": {
    "name": "ipython",
    "version": 3
   },
   "file_extension": ".py",
   "mimetype": "text/x-python",
   "name": "python",
   "nbconvert_exporter": "python",
   "pygments_lexer": "ipython3",
   "version": "3.8.8"
  },
  "vscode": {
   "interpreter": {
    "hash": "db928fd0c57d8c7a39883c08009f12c1243d97ab72bdd745024349e3e8cdaefe"
   }
  }
 },
 "nbformat": 4,
 "nbformat_minor": 5
}

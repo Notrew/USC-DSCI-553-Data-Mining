{
 "cells": [
  {
   "cell_type": "code",
   "execution_count": 1,
   "id": "3fb176c9",
   "metadata": {},
   "outputs": [],
   "source": [
    "import sys\n",
    "from pyspark import SparkContext\n",
    "import json"
   ]
  },
  {
   "cell_type": "code",
   "execution_count": 2,
   "id": "95891c3a",
   "metadata": {},
   "outputs": [
    {
     "name": "stderr",
     "output_type": "stream",
     "text": [
      "WARNING: An illegal reflective access operation has occurred\n",
      "WARNING: Illegal reflective access by org.apache.spark.unsafe.Platform (file:/Users/notre/opt/anaconda3/lib/python3.8/site-packages/pyspark/jars/spark-unsafe_2.12-3.1.2.jar) to constructor java.nio.DirectByteBuffer(long,int)\n",
      "WARNING: Please consider reporting this to the maintainers of org.apache.spark.unsafe.Platform\n",
      "WARNING: Use --illegal-access=warn to enable warnings of further illegal reflective access operations\n",
      "WARNING: All illegal access operations will be denied in a future release\n",
      "23/02/03 22:40:35 WARN NativeCodeLoader: Unable to load native-hadoop library for your platform... using builtin-java classes where applicable\n",
      "Using Spark's default log4j profile: org/apache/spark/log4j-defaults.properties\n",
      "Setting default log level to \"WARN\".\n",
      "To adjust logging level use sc.setLogLevel(newLevel). For SparkR, use setLogLevel(newLevel).\n",
      "23/02/03 22:40:36 WARN Utils: Service 'SparkUI' could not bind on port 4040. Attempting port 4041.\n"
     ]
    }
   ],
   "source": [
    "# task1, input format: task1.py <review_filepath> <output_filepath>\n",
    "# review_path = sys.argv[0]\n",
    "# output_path = sys.argv[1]\n",
    "review_path = \"./test_review.json\"\n",
    "output_path = \"./ans1.json\"\n",
    "sc = SparkContext(\"local[*]\",appName=\"task1\").getOrCreate()\n",
    "review = sc.textFile(review_path).map(lambda x: json.loads(x))\n",
    "output = {}"
   ]
  },
  {
   "cell_type": "code",
   "execution_count": 3,
   "id": "c299fbcb",
   "metadata": {},
   "outputs": [
    {
     "name": "stderr",
     "output_type": "stream",
     "text": [
      "                                                                                \r"
     ]
    }
   ],
   "source": [
    "# A. The total number of reviews\n",
    "output[\"n_review\"] = review.map(lambda x: x[\"review_id\"]).distinct().count()"
   ]
  },
  {
   "cell_type": "code",
   "execution_count": 4,
   "id": "a7ab81f0",
   "metadata": {},
   "outputs": [],
   "source": [
    "# B. The number of reviews in 2018\n",
    "output[\"n_review_2018\"] = review.filter(lambda x: x[\"date\"].startswith(\"2018\")).\\\n",
    "                                map(lambda x: x[\"review_id\"]).distinct().count()"
   ]
  },
  {
   "cell_type": "code",
   "execution_count": 5,
   "id": "b72168c3",
   "metadata": {},
   "outputs": [],
   "source": [
    "# C. The number of distinct users who wrote reviews\n",
    "output[\"n_user\"] = review.map(lambda x: x[\"user_id\"]).distinct().count()"
   ]
  },
  {
   "cell_type": "code",
   "execution_count": 6,
   "id": "7cb3f491",
   "metadata": {},
   "outputs": [],
   "source": [
    "# D. The top 10 users who wrote the largest numbers of reviews and the number of reviews they wrote\n",
    "# top10_user\n",
    "output[\"top10_user\"] = review.map(lambda x: [x[\"user_id\"],1]).reduceByKey(lambda x,y: x+y)\\\n",
    "                        .map(lambda x: list(x)).takeOrdered(10,key=lambda x: [-x[1],x[0]])\n",
    "# output[\"top10_user\"] = review.map(lambda x: [x[\"user_id\"],1]).reduceByKey(lambda x,y: x+y)\\\n",
    "#                         .map(lambda x: list(x)).takeOrdered(10,key=lambda x: [-x[1],x[0]])"
   ]
  },
  {
   "cell_type": "code",
   "execution_count": 7,
   "id": "bcfcdf8a",
   "metadata": {},
   "outputs": [],
   "source": [
    "# E. The number of distinct businesses that have been reviewed\n",
    "# n_business\n",
    "output[\"n_business\"] = review.map(lambda x: x[\"business_id\"]).distinct().count()"
   ]
  },
  {
   "cell_type": "code",
   "execution_count": 3,
   "id": "b9680ab6",
   "metadata": {},
   "outputs": [
    {
     "name": "stderr",
     "output_type": "stream",
     "text": [
      "\r",
      "[Stage 0:>                                                          (0 + 2) / 2]\r",
      "\r",
      "                                                                                \r"
     ]
    }
   ],
   "source": [
    "# F. The top 10 businesses that had the largest numbers of reviews and the number of reviews they had\n",
    "# top10_business\n",
    "output[\"top10_business\"] = review.map(lambda x: [x[\"business_id\"],1]).reduceByKey(lambda x,y: x+y)\\\n",
    "                        .map(lambda x: list(x)).sortBy(lambda x:[-x[1],x[0]]).take(10)\n",
    "# output[\"top10_business\"] = review.map(lambda x: [x[\"business_id\"],1]).reduceByKey(lambda x,y: x+y)\\\n",
    "#                         .map(lambda x: list(x)).takeOrdered(10,key=lambda x: [-x[1],x[0]])"
   ]
  },
  {
   "cell_type": "code",
   "execution_count": 9,
   "id": "1724c035",
   "metadata": {},
   "outputs": [],
   "source": [
    "with open(output_path,\"w\") as f:\n",
    "    json.dump(output,f) "
   ]
  }
 ],
 "metadata": {
  "kernelspec": {
   "display_name": "Python 3 (ipykernel)",
   "language": "python",
   "name": "python3"
  },
  "language_info": {
   "codemirror_mode": {
    "name": "ipython",
    "version": 3
   },
   "file_extension": ".py",
   "mimetype": "text/x-python",
   "name": "python",
   "nbconvert_exporter": "python",
   "pygments_lexer": "ipython3",
   "version": "3.8.8"
  }
 },
 "nbformat": 4,
 "nbformat_minor": 5
}
